{
 "cells": [
  {
   "cell_type": "code",
   "execution_count": null,
   "id": "e818454a-1246-422a-8369-1fd9f64ff7a1",
   "metadata": {},
   "outputs": [],
   "source": [
    "from sklearn import metrics\n",
    "import numpy as np\n",
    "from tqdm import tqdm\n",
    "import pandas as pd\n",
    "from pathway import Pathway\n",
    "\n",
    "# ===================Loading analysis files================================\n",
    "#Protein_Disease data(protein-pathway)\n",
    "pathway_file='your_file4'\n",
    "pathway_id_col_name = \"pathway_columname\"\n",
    "protein_id_col_name =\"protein_columname\"\n",
    "\n",
    "# Food_Protein data(food-protein-score)\n",
    "lr_food_file = \"your_file3\"\n",
    "lr_food_food_col_name = \"food_columname\"\n",
    "lr_food_protein_col_name = \"protein_columname\"\n",
    "lr_food_socre_col_name = \"score_columname\"\n",
    "\n",
    "# Golden dataset(food-pathway)\n",
    "trues_pos_file = \"your_file5\"\n",
    "trues_pos_food_col_name = \"food_columname\"\n",
    "trues_pos_disease_col_name = \"pathway_columname\"\n",
    "\n",
    "\n",
    "# ==============================================================================\n",
    "# ==============================================================================\n",
    "\n",
    "relevance = Pathway(pathway_file=pathway_file,\n",
    "                    excluded_pathway_file=None,\n",
    "                    FDR_each_compound=False,\n",
    "                    FDR_all=False,\n",
    "                    detail=False,\n",
    "                    pathway_id_col_name=pathway_id_col_name,\n",
    "                    protein_id_col_name=protein_id_col_name)\n",
    "\n",
    "\n",
    "lr_food_df = pd.read_table(lr_food_file)\n",
    "trues_pos_df = pd.read_table(trues_pos_file)\n",
    "\n",
    "\n",
    "    # Pathway Enrichment Analysis\n",
    "ea_df = relevance.enrichiment_analysis_all_df(lr_food_df, (threshold),\\\n",
    "                                              compound=lr_food_food_col_name,\n",
    "                                              protein=lr_food_protein_col_name,\n",
    "                                              score=lr_food_socre_col_name)"
   ]
  }
 ],
 "metadata": {
  "kernelspec": {
   "display_name": "Python 3 (ipykernel)",
   "language": "python",
   "name": "python3"
  },
  "language_info": {
   "codemirror_mode": {
    "name": "ipython",
    "version": 3
   },
   "file_extension": ".py",
   "mimetype": "text/x-python",
   "name": "python",
   "nbconvert_exporter": "python",
   "pygments_lexer": "ipython3",
   "version": "3.8.13"
  }
 },
 "nbformat": 4,
 "nbformat_minor": 5
}
